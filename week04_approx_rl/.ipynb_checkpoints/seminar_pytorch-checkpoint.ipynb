{
 "cells": [
  {
   "cell_type": "markdown",
   "metadata": {
    "colab_type": "text",
    "id": "L8Ha-jdthEB0"
   },
   "source": [
    "# Approximate q-learning\n",
    "\n",
    "In this notebook you will teach a __pytorch__ neural network to do Q-learning."
   ]
  },
  {
   "cell_type": "code",
   "execution_count": 1,
   "metadata": {
    "colab": {
     "base_uri": "https://localhost:8080/",
     "height": 34
    },
    "colab_type": "code",
    "id": "iN__cWxZhEB4",
    "outputId": "f67d01de-92fb-492b-b29c-b6d9c1c8a3bd"
   },
   "outputs": [],
   "source": [
    "# in google colab uncomment this\n",
    "\n",
    "# import os\n",
    "\n",
    "# os.system('apt-get update')\n",
    "# os.system('apt-get install -y xvfb')\n",
    "# os.system('wget https://raw.githubusercontent.com/yandexdataschool/Practical_DL/fall18/xvfb -O ../xvfb')\n",
    "# os.system('apt-get install -y python-opengl ffmpeg')\n",
    "# os.system('pip install pyglet==1.5.0')\n",
    "\n",
    "# XVFB will be launched if you run on a server\n",
    "import os\n",
    "if type(os.environ.get(\"DISPLAY\")) is not str or len(os.environ.get(\"DISPLAY\")) == 0:\n",
    "    !bash ../xvfb start\n",
    "    os.environ['DISPLAY'] = ':1'"
   ]
  },
  {
   "cell_type": "code",
   "execution_count": 2,
   "metadata": {
    "colab": {},
    "colab_type": "code",
    "id": "qG6oRIMmhEB_"
   },
   "outputs": [],
   "source": [
    "import gym\n",
    "import numpy as np\n",
    "import pandas as pd\n",
    "import matplotlib.pyplot as plt\n",
    "%matplotlib inline"
   ]
  },
  {
   "cell_type": "code",
   "execution_count": 3,
   "metadata": {
    "colab": {
     "base_uri": "https://localhost:8080/",
     "height": 303
    },
    "colab_type": "code",
    "id": "I0myXAPjhECE",
    "outputId": "3ce14874-d965-4168-87eb-5603426954cc"
   },
   "outputs": [
    {
     "name": "stderr",
     "output_type": "stream",
     "text": [
      "/home/coder/anaconda3/lib/python3.7/site-packages/gym/logger.py:30: UserWarning: \u001b[33mWARN: Box bound precision lowered by casting to float32\u001b[0m\n",
      "  warnings.warn(colorize('%s: %s'%('WARN', msg % args), 'yellow'))\n"
     ]
    },
    {
     "data": {
      "image/png": "[encoded data removed]",
      "text/plain": [
       "<Figure size 432x288 with 1 Axes>"
      ]
     },
     "metadata": {
      "needs_background": "light"
     },
     "output_type": "display_data"
    }
   ],
   "source": [
    "env = gym.make(\"CartPole-v0\").env\n",
    "env.reset()\n",
    "n_actions = env.action_space.n\n",
    "state_dim = env.observation_space.shape\n",
    "\n",
    "plt.imshow(env.render(\"rgb_array\"))\n",
    "env.close()"
   ]
  },
  {
   "cell_type": "markdown",
   "metadata": {
    "colab_type": "text",
    "id": "r_5tjEZGhECK"
   },
   "source": [
    "# Approximate Q-learning: building the network\n",
    "\n",
    "To train a neural network policy one must have a neural network policy. Let's build it.\n",
    "\n",
    "\n",
    "Since we're working with a pre-extracted features (cart positions, angles and velocities), we don't need a complicated network yet. In fact, let's build something like this for starters:\n",
    "\n",
    "![img](https://raw.githubusercontent.com/yandexdataschool/Practical_RL/master/yet_another_week/_resource/qlearning_scheme.png)\n",
    "\n",
    "For your first run, please only use linear layers (nn.Linear) and activations. Stuff like batch normalization or dropout may ruin everything if used haphazardly. \n",
    "\n",
    "Also please avoid using nonlinearities like sigmoid & tanh: agent's observations are not normalized so sigmoids may become saturated from init.\n",
    "\n",
    "Ideally you should start small with maybe 1-2 hidden layers with < 200 neurons and then increase network size if agent doesn't beat the target score."
   ]
  },
  {
   "cell_type": "code",
   "execution_count": 5,
   "metadata": {
    "colab": {},
    "colab_type": "code",
    "id": "q0NoyjajhECM"
   },
   "outputs": [],
   "source": [
    "import torch\n",
    "import torch.nn as nn\n",
    "import torch.nn.functional as F"
   ]
  },
  {
   "cell_type": "code",
   "execution_count": 38,
   "metadata": {
    "colab": {},
    "colab_type": "code",
    "id": "uMtqOaDIhECS"
   },
   "outputs": [],
   "source": [
    "network = nn.Sequential()\n",
    "\n",
    "network.add_module('linear1', nn.Linear(in_features=state_dim[0], out_features=50))\n",
    "network.add_module('relu1', nn.ReLU())\n",
    "network.add_module('linear2', nn.Linear(in_features=50, out_features=n_actions))\n",
    "\n",
    "# hint: use state_dim[0] as input size"
   ]
  },
  {
   "cell_type": "code",
   "execution_count": 39,
   "metadata": {
    "colab": {},
    "colab_type": "code",
    "id": "turHm4gfhECd"
   },
   "outputs": [],
   "source": [
    "def get_action(state, epsilon=0):\n",
    "    \"\"\"\n",
    "    sample actions with epsilon-greedy policy\n",
    "    recap: with p = epsilon pick random action, else pick action with highest Q(s,a)\n",
    "    \"\"\"\n",
    "    state = torch.tensor(state[None], dtype=torch.float32)\n",
    "    q_values = network(state).detach().numpy()\n",
    "\n",
    "    if np.random.rand() < epsilon:\n",
    "        action = np.random.randint(0, 2)\n",
    "    else:\n",
    "        action = np.argmax(q_values)\n",
    "\n",
    "    return int(action)"
   ]
  },
  {
   "cell_type": "code",
   "execution_count": 40,
   "metadata": {
    "colab": {},
    "colab_type": "code",
    "id": "lCIZsXRUhECj"
   },
   "outputs": [
    {
     "name": "stdout",
     "output_type": "stream",
     "text": [
      "e=0.0 tests passed\n",
      "e=0.1 tests passed\n",
      "e=0.5 tests passed\n",
      "e=1.0 tests passed\n"
     ]
    }
   ],
   "source": [
    "s = env.reset()\n",
    "assert tuple(network(torch.tensor([s]*3, dtype=torch.float32)).size()) == (\n",
    "    3, n_actions), \"please make sure your model maps state s -> [Q(s,a0), ..., Q(s, a_last)]\"\n",
    "assert isinstance(list(network.modules(\n",
    "))[-1], nn.Linear), \"please make sure you predict q-values without nonlinearity (ignore if you know what you're doing)\"\n",
    "assert isinstance(get_action(\n",
    "    s), int), \"get_action(s) must return int, not %s. try int(action)\" % (type(get_action(s)))\n",
    "\n",
    "# test epsilon-greedy exploration\n",
    "for eps in [0., 0.1, 0.5, 1.0]:\n",
    "    state_frequencies = np.bincount(\n",
    "        [get_action(s, epsilon=eps) for i in range(10000)], minlength=n_actions)\n",
    "    best_action = state_frequencies.argmax()\n",
    "    assert abs(state_frequencies[best_action] -\n",
    "               10000 * (1 - eps + eps / n_actions)) < 200\n",
    "    for other_action in range(n_actions):\n",
    "        if other_action != best_action:\n",
    "            assert abs(state_frequencies[other_action] -\n",
    "                       10000 * (eps / n_actions)) < 200\n",
    "    print('e=%.1f tests passed' % eps)"
   ]
  },
  {
   "cell_type": "markdown",
   "metadata": {
    "colab_type": "text",
    "id": "sQbhj_lYhECo"
   },
   "source": [
    "### Q-learning via gradient descent\n",
    "\n",
    "We shall now train our agent's Q-function by minimizing the TD loss:\n",
    "$$ L = { 1 \\over N} \\sum_i (Q_{\\theta}(s,a) - [r(s,a) + \\gamma \\cdot max_{a'} Q_{-}(s', a')]) ^2 $$\n",
    "\n",
    "\n",
    "Where\n",
    "* $s, a, r, s'$ are current state, action, reward and next state respectively\n",
    "* $\\gamma$ is a discount factor defined two cells above.\n",
    "\n",
    "The tricky part is with  $Q_{-}(s',a')$. From an engineering standpoint, it's the same as $Q_{\\theta}$ - the output of your neural network policy. However, when doing gradient descent, __we won't propagate gradients through it__ to make training more stable (see lectures).\n",
    "\n",
    "To do so, we shall use `x.detach()` function which basically says \"consider this thing constant when doingbackprop\"."
   ]
  },
  {
   "cell_type": "code",
   "execution_count": 41,
   "metadata": {
    "colab": {},
    "colab_type": "code",
    "id": "cVHTh-cHhECp"
   },
   "outputs": [],
   "source": [
    "def to_one_hot(y_tensor, n_dims=None):\n",
    "    \"\"\" helper: take an integer vector and convert it to 1-hot matrix. \"\"\"\n",
    "    y_tensor = y_tensor.type(torch.LongTensor).view(-1, 1)\n",
    "    n_dims = n_dims if n_dims is not None else int(torch.max(y_tensor)) + 1\n",
    "    y_one_hot = torch.zeros(\n",
    "        y_tensor.size()[0], n_dims).scatter_(1, y_tensor, 1)\n",
    "    return y_one_hot\n",
    "\n",
    "\n",
    "def where(cond, x_1, x_2):\n",
    "    \"\"\" helper: like np.where but in pytorch. \"\"\"\n",
    "    return (cond * x_1) + ((1-cond) * x_2)"
   ]
  },
  {
   "cell_type": "code",
   "execution_count": 42,
   "metadata": {},
   "outputs": [
    {
     "data": {
      "text/plain": [
       "array([2, 4])"
      ]
     },
     "execution_count": 42,
     "metadata": {},
     "output_type": "execute_result"
    }
   ],
   "source": [
    "np.array([[1, 2], [3, 4]]).max(axis=1)"
   ]
  },
  {
   "cell_type": "code",
   "execution_count": 43,
   "metadata": {
    "colab": {},
    "colab_type": "code",
    "id": "qHVSnQ6QhECu"
   },
   "outputs": [],
   "source": [
    "def compute_td_loss(states, actions, rewards, next_states, is_done, gamma=0.99, check_shapes=False):\n",
    "    \"\"\" Compute td loss using torch operations only. Use the formula above. \"\"\"\n",
    "    states = torch.tensor(\n",
    "        states, dtype=torch.float32)    # shape: [batch_size, state_size]\n",
    "    actions = torch.tensor(actions, dtype=torch.int32)    # shape: [batch_size]\n",
    "    rewards = torch.tensor(rewards, dtype=torch.float32)  # shape: [batch_size]\n",
    "    # shape: [batch_size, state_size]\n",
    "    next_states = torch.tensor(next_states, dtype=torch.float32)\n",
    "    is_done = torch.tensor(is_done, dtype=torch.float32)  # shape: [batch_size]\n",
    "\n",
    "    # get q-values for all actions in current states\n",
    "    predicted_qvalues = network(states)\n",
    "\n",
    "    # select q-values for chosen actions\n",
    "    predicted_qvalues_for_actions = torch.sum(\n",
    "        predicted_qvalues * to_one_hot(actions, n_actions), dim=1)\n",
    "\n",
    "    # compute q-values for all actions in next states\n",
    "    predicted_next_qvalues = network(states)\n",
    "\n",
    "    # compute V*(next_states) using predicted next q-values\n",
    "    next_state_values =  torch.max(predicted_next_qvalues, dim=-1)[0]\n",
    "    assert next_state_values.dtype == torch.float32\n",
    "\n",
    "    # compute \"target q-values\" for loss - it's what's inside square parentheses in the above formula.\n",
    "    target_qvalues_for_actions =  rewards + gamma * next_state_values\n",
    "\n",
    "    # at the last state we shall use simplified formula: Q(s,a) = r(s,a) since s' doesn't exist\n",
    "    target_qvalues_for_actions = where(\n",
    "        is_done, rewards, target_qvalues_for_actions)\n",
    "\n",
    "    # mean squared error loss to minimize\n",
    "    loss = torch.mean((predicted_qvalues_for_actions -\n",
    "                       target_qvalues_for_actions.detach()) ** 2)\n",
    "\n",
    "    if check_shapes:\n",
    "        assert predicted_next_qvalues.data.dim(\n",
    "        ) == 2, \"make sure you predicted q-values for all actions in next state\"\n",
    "        assert next_state_values.data.dim(\n",
    "        ) == 1, \"make sure you computed V(s') as maximum over just the actions axis and not all axes\"\n",
    "        assert target_qvalues_for_actions.data.dim(\n",
    "        ) == 1, \"there's something wrong with target q-values, they must be a vector\"\n",
    "\n",
    "    return loss"
   ]
  },
  {
   "cell_type": "code",
   "execution_count": 44,
   "metadata": {
    "colab": {},
    "colab_type": "code",
    "id": "p6iqsrTjhEC7"
   },
   "outputs": [],
   "source": [
    "# sanity checks\n",
    "s = env.reset()\n",
    "a = env.action_space.sample()\n",
    "next_s, r, done, _ = env.step(a)\n",
    "loss = compute_td_loss([s], [a], [r], [next_s], [done], check_shapes=True)\n",
    "loss.backward()\n",
    "\n",
    "assert len(loss.size()) == 0, \"you must return scalar loss - mean over batch\"\n",
    "assert np.any(next(network.parameters()).grad.detach().numpy() !=\n",
    "              0), \"loss must be differentiable w.r.t. network weights\""
   ]
  },
  {
   "cell_type": "markdown",
   "metadata": {
    "colab_type": "text",
    "id": "uLkU3A7vhEDA"
   },
   "source": [
    "### Playing the game"
   ]
  },
  {
   "cell_type": "code",
   "execution_count": 45,
   "metadata": {
    "colab": {},
    "colab_type": "code",
    "id": "PNJUql5HhEDB"
   },
   "outputs": [],
   "source": [
    "opt = torch.optim.Adam(network.parameters(), lr=1e-4)\n",
    "epsilon = 0.5"
   ]
  },
  {
   "cell_type": "code",
   "execution_count": 46,
   "metadata": {
    "colab": {},
    "colab_type": "code",
    "id": "7_aGAweihEDG"
   },
   "outputs": [],
   "source": [
    "def generate_session(t_max=1000, epsilon=0, train=False):\n",
    "    \"\"\"play env with approximate q-learning agent and train it at the same time\"\"\"\n",
    "    total_reward = 0\n",
    "    s = env.reset()\n",
    "\n",
    "    for t in range(t_max):\n",
    "        a = get_action(s, epsilon=epsilon)\n",
    "        next_s, r, done, _ = env.step(a)\n",
    "\n",
    "        if train:\n",
    "            opt.zero_grad()\n",
    "            compute_td_loss([s], [a], [r], [next_s], [done]).backward()\n",
    "            opt.step()\n",
    "\n",
    "        total_reward += r\n",
    "        s = next_s\n",
    "        if done:\n",
    "            break\n",
    "\n",
    "    return total_reward"
   ]
  },
  {
   "cell_type": "code",
   "execution_count": 47,
   "metadata": {
    "colab": {},
    "colab_type": "code",
    "id": "__bEbYEnhEDL"
   },
   "outputs": [
    {
     "name": "stdout",
     "output_type": "stream",
     "text": [
      "epoch #0\tmean reward = 14.050\tepsilon = 0.500\n",
      "epoch #1\tmean reward = 13.350\tepsilon = 0.495\n",
      "epoch #2\tmean reward = 13.900\tepsilon = 0.490\n",
      "epoch #3\tmean reward = 14.000\tepsilon = 0.485\n",
      "epoch #4\tmean reward = 13.850\tepsilon = 0.480\n",
      "epoch #5\tmean reward = 13.350\tepsilon = 0.475\n",
      "epoch #6\tmean reward = 13.860\tepsilon = 0.471\n",
      "epoch #7\tmean reward = 13.770\tepsilon = 0.466\n",
      "epoch #8\tmean reward = 12.150\tepsilon = 0.461\n",
      "epoch #9\tmean reward = 13.760\tepsilon = 0.457\n",
      "epoch #10\tmean reward = 13.690\tepsilon = 0.452\n",
      "epoch #11\tmean reward = 13.150\tepsilon = 0.448\n",
      "epoch #12\tmean reward = 13.130\tepsilon = 0.443\n",
      "epoch #13\tmean reward = 12.720\tepsilon = 0.439\n",
      "epoch #14\tmean reward = 12.210\tepsilon = 0.434\n",
      "epoch #15\tmean reward = 13.100\tepsilon = 0.430\n",
      "epoch #16\tmean reward = 12.760\tepsilon = 0.426\n",
      "epoch #17\tmean reward = 12.870\tepsilon = 0.421\n",
      "epoch #18\tmean reward = 13.140\tepsilon = 0.417\n",
      "epoch #19\tmean reward = 12.510\tepsilon = 0.413\n",
      "epoch #20\tmean reward = 12.270\tepsilon = 0.409\n",
      "epoch #21\tmean reward = 12.260\tepsilon = 0.405\n",
      "epoch #22\tmean reward = 12.520\tepsilon = 0.401\n",
      "epoch #23\tmean reward = 12.230\tepsilon = 0.397\n",
      "epoch #24\tmean reward = 12.310\tepsilon = 0.393\n",
      "epoch #25\tmean reward = 12.460\tepsilon = 0.389\n",
      "epoch #26\tmean reward = 12.400\tepsilon = 0.385\n",
      "epoch #27\tmean reward = 11.990\tepsilon = 0.381\n",
      "epoch #28\tmean reward = 12.510\tepsilon = 0.377\n",
      "epoch #29\tmean reward = 11.750\tepsilon = 0.374\n",
      "epoch #30\tmean reward = 11.380\tepsilon = 0.370\n",
      "epoch #31\tmean reward = 12.180\tepsilon = 0.366\n",
      "epoch #32\tmean reward = 11.940\tepsilon = 0.362\n",
      "epoch #33\tmean reward = 11.810\tepsilon = 0.359\n",
      "epoch #34\tmean reward = 11.210\tepsilon = 0.355\n",
      "epoch #35\tmean reward = 12.330\tepsilon = 0.352\n",
      "epoch #36\tmean reward = 11.990\tepsilon = 0.348\n",
      "epoch #37\tmean reward = 11.630\tepsilon = 0.345\n",
      "epoch #38\tmean reward = 11.750\tepsilon = 0.341\n",
      "epoch #39\tmean reward = 11.900\tepsilon = 0.338\n",
      "epoch #40\tmean reward = 11.640\tepsilon = 0.334\n",
      "epoch #41\tmean reward = 11.620\tepsilon = 0.331\n",
      "epoch #42\tmean reward = 11.750\tepsilon = 0.328\n",
      "epoch #43\tmean reward = 11.440\tepsilon = 0.325\n",
      "epoch #44\tmean reward = 12.060\tepsilon = 0.321\n",
      "epoch #45\tmean reward = 11.910\tepsilon = 0.318\n",
      "epoch #46\tmean reward = 11.700\tepsilon = 0.315\n",
      "epoch #47\tmean reward = 11.210\tepsilon = 0.312\n",
      "epoch #48\tmean reward = 11.220\tepsilon = 0.309\n",
      "epoch #49\tmean reward = 11.500\tepsilon = 0.306\n",
      "epoch #50\tmean reward = 11.120\tepsilon = 0.303\n",
      "epoch #51\tmean reward = 11.150\tepsilon = 0.299\n",
      "epoch #52\tmean reward = 11.220\tepsilon = 0.296\n",
      "epoch #53\tmean reward = 11.180\tepsilon = 0.294\n",
      "epoch #54\tmean reward = 10.930\tepsilon = 0.291\n",
      "epoch #55\tmean reward = 11.050\tepsilon = 0.288\n",
      "epoch #56\tmean reward = 11.680\tepsilon = 0.285\n",
      "epoch #57\tmean reward = 11.030\tepsilon = 0.282\n",
      "epoch #58\tmean reward = 11.080\tepsilon = 0.279\n",
      "epoch #59\tmean reward = 11.110\tepsilon = 0.276\n",
      "epoch #60\tmean reward = 10.800\tepsilon = 0.274\n",
      "epoch #61\tmean reward = 10.680\tepsilon = 0.271\n",
      "epoch #62\tmean reward = 11.130\tepsilon = 0.268\n",
      "epoch #63\tmean reward = 11.240\tepsilon = 0.265\n",
      "epoch #64\tmean reward = 11.040\tepsilon = 0.263\n",
      "epoch #65\tmean reward = 11.270\tepsilon = 0.260\n",
      "epoch #66\tmean reward = 10.700\tepsilon = 0.258\n",
      "epoch #67\tmean reward = 10.520\tepsilon = 0.255\n",
      "epoch #68\tmean reward = 10.560\tepsilon = 0.252\n",
      "epoch #69\tmean reward = 10.870\tepsilon = 0.250\n",
      "epoch #70\tmean reward = 10.980\tepsilon = 0.247\n",
      "epoch #71\tmean reward = 10.940\tepsilon = 0.245\n",
      "epoch #72\tmean reward = 10.940\tepsilon = 0.242\n",
      "epoch #73\tmean reward = 10.820\tepsilon = 0.240\n",
      "epoch #74\tmean reward = 10.490\tepsilon = 0.238\n",
      "epoch #75\tmean reward = 10.860\tepsilon = 0.235\n",
      "epoch #76\tmean reward = 10.850\tepsilon = 0.233\n",
      "epoch #77\tmean reward = 10.920\tepsilon = 0.231\n",
      "epoch #78\tmean reward = 10.600\tepsilon = 0.228\n",
      "epoch #79\tmean reward = 10.670\tepsilon = 0.226\n",
      "epoch #80\tmean reward = 10.970\tepsilon = 0.224\n",
      "epoch #81\tmean reward = 10.640\tepsilon = 0.222\n",
      "epoch #82\tmean reward = 10.900\tepsilon = 0.219\n",
      "epoch #83\tmean reward = 10.690\tepsilon = 0.217\n",
      "epoch #84\tmean reward = 10.660\tepsilon = 0.215\n",
      "epoch #85\tmean reward = 10.700\tepsilon = 0.213\n",
      "epoch #86\tmean reward = 10.810\tepsilon = 0.211\n",
      "epoch #87\tmean reward = 10.450\tepsilon = 0.209\n",
      "epoch #88\tmean reward = 10.810\tepsilon = 0.206\n",
      "epoch #89\tmean reward = 10.660\tepsilon = 0.204\n",
      "epoch #90\tmean reward = 10.770\tepsilon = 0.202\n",
      "epoch #91\tmean reward = 10.530\tepsilon = 0.200\n",
      "epoch #92\tmean reward = 10.470\tepsilon = 0.198\n",
      "epoch #93\tmean reward = 10.420\tepsilon = 0.196\n",
      "epoch #94\tmean reward = 12.360\tepsilon = 0.194\n",
      "epoch #95\tmean reward = 10.590\tepsilon = 0.192\n",
      "epoch #96\tmean reward = 10.280\tepsilon = 0.191\n",
      "epoch #97\tmean reward = 10.530\tepsilon = 0.189\n",
      "epoch #98\tmean reward = 10.430\tepsilon = 0.187\n",
      "epoch #99\tmean reward = 10.280\tepsilon = 0.185\n",
      "epoch #100\tmean reward = 10.320\tepsilon = 0.183\n",
      "epoch #101\tmean reward = 10.820\tepsilon = 0.181\n",
      "epoch #102\tmean reward = 10.370\tepsilon = 0.179\n",
      "epoch #103\tmean reward = 10.300\tepsilon = 0.178\n",
      "epoch #104\tmean reward = 10.190\tepsilon = 0.176\n",
      "epoch #105\tmean reward = 10.330\tepsilon = 0.174\n",
      "epoch #106\tmean reward = 10.450\tepsilon = 0.172\n",
      "epoch #107\tmean reward = 10.400\tepsilon = 0.171\n",
      "epoch #108\tmean reward = 10.430\tepsilon = 0.169\n",
      "epoch #109\tmean reward = 10.420\tepsilon = 0.167\n",
      "epoch #110\tmean reward = 10.280\tepsilon = 0.166\n",
      "epoch #111\tmean reward = 10.310\tepsilon = 0.164\n",
      "epoch #112\tmean reward = 10.240\tepsilon = 0.162\n",
      "epoch #113\tmean reward = 10.200\tepsilon = 0.161\n",
      "epoch #114\tmean reward = 10.340\tepsilon = 0.159\n",
      "epoch #115\tmean reward = 10.850\tepsilon = 0.157\n",
      "epoch #116\tmean reward = 10.230\tepsilon = 0.156\n",
      "epoch #117\tmean reward = 10.020\tepsilon = 0.154\n",
      "epoch #118\tmean reward = 14.100\tepsilon = 0.153\n",
      "epoch #119\tmean reward = 10.200\tepsilon = 0.151\n",
      "epoch #120\tmean reward = 10.230\tepsilon = 0.150\n",
      "epoch #121\tmean reward = 10.260\tepsilon = 0.148\n",
      "epoch #122\tmean reward = 10.310\tepsilon = 0.147\n",
      "epoch #123\tmean reward = 10.140\tepsilon = 0.145\n",
      "epoch #124\tmean reward = 10.600\tepsilon = 0.144\n",
      "epoch #125\tmean reward = 10.150\tepsilon = 0.142\n",
      "epoch #126\tmean reward = 9.850\tepsilon = 0.141\n",
      "epoch #127\tmean reward = 10.190\tepsilon = 0.140\n",
      "epoch #128\tmean reward = 10.160\tepsilon = 0.138\n",
      "epoch #129\tmean reward = 10.010\tepsilon = 0.137\n",
      "epoch #130\tmean reward = 9.960\tepsilon = 0.135\n",
      "epoch #131\tmean reward = 9.920\tepsilon = 0.134\n",
      "epoch #132\tmean reward = 10.080\tepsilon = 0.133\n",
      "epoch #133\tmean reward = 10.110\tepsilon = 0.131\n",
      "epoch #134\tmean reward = 9.750\tepsilon = 0.130\n",
      "epoch #135\tmean reward = 9.960\tepsilon = 0.129\n",
      "epoch #136\tmean reward = 9.970\tepsilon = 0.127\n",
      "epoch #137\tmean reward = 10.020\tepsilon = 0.126\n",
      "epoch #138\tmean reward = 10.040\tepsilon = 0.125\n",
      "epoch #139\tmean reward = 10.020\tepsilon = 0.124\n",
      "epoch #140\tmean reward = 10.160\tepsilon = 0.122\n",
      "epoch #141\tmean reward = 9.750\tepsilon = 0.121\n",
      "epoch #142\tmean reward = 10.060\tepsilon = 0.120\n",
      "epoch #143\tmean reward = 10.030\tepsilon = 0.119\n",
      "epoch #144\tmean reward = 9.970\tepsilon = 0.118\n",
      "epoch #145\tmean reward = 10.050\tepsilon = 0.116\n",
      "epoch #146\tmean reward = 10.040\tepsilon = 0.115\n",
      "epoch #147\tmean reward = 9.970\tepsilon = 0.114\n",
      "epoch #148\tmean reward = 9.930\tepsilon = 0.113\n",
      "epoch #149\tmean reward = 9.890\tepsilon = 0.112\n",
      "epoch #150\tmean reward = 9.990\tepsilon = 0.111\n",
      "epoch #151\tmean reward = 9.970\tepsilon = 0.110\n",
      "epoch #152\tmean reward = 9.930\tepsilon = 0.109\n",
      "epoch #153\tmean reward = 10.000\tepsilon = 0.107\n",
      "epoch #154\tmean reward = 10.030\tepsilon = 0.106\n",
      "epoch #155\tmean reward = 9.670\tepsilon = 0.105\n",
      "epoch #156\tmean reward = 10.220\tepsilon = 0.104\n",
      "epoch #157\tmean reward = 9.860\tepsilon = 0.103\n",
      "epoch #158\tmean reward = 9.960\tepsilon = 0.102\n",
      "epoch #159\tmean reward = 9.770\tepsilon = 0.101\n",
      "epoch #160\tmean reward = 9.740\tepsilon = 0.100\n",
      "epoch #161\tmean reward = 10.000\tepsilon = 0.099\n",
      "epoch #162\tmean reward = 9.950\tepsilon = 0.098\n",
      "epoch #163\tmean reward = 9.920\tepsilon = 0.097\n",
      "epoch #164\tmean reward = 9.990\tepsilon = 0.096\n",
      "epoch #165\tmean reward = 9.820\tepsilon = 0.095\n",
      "epoch #166\tmean reward = 9.810\tepsilon = 0.094\n",
      "epoch #167\tmean reward = 9.980\tepsilon = 0.093\n"
     ]
    },
    {
     "ename": "KeyboardInterrupt",
     "evalue": "",
     "output_type": "error",
     "traceback": [
      "\u001b[0;31m---------------------------------------------------------------------------\u001b[0m",
      "\u001b[0;31mKeyboardInterrupt\u001b[0m                         Traceback (most recent call last)",
      "\u001b[0;32m<ipython-input-47-e9b71d6b012d>\u001b[0m in \u001b[0;36m<module>\u001b[0;34m\u001b[0m\n\u001b[1;32m      1\u001b[0m \u001b[0;32mfor\u001b[0m \u001b[0mi\u001b[0m \u001b[0;32min\u001b[0m \u001b[0mrange\u001b[0m\u001b[0;34m(\u001b[0m\u001b[0;36m1000\u001b[0m\u001b[0;34m)\u001b[0m\u001b[0;34m:\u001b[0m\u001b[0;34m\u001b[0m\u001b[0;34m\u001b[0m\u001b[0m\n\u001b[1;32m      2\u001b[0m     session_rewards = [generate_session(\n\u001b[0;32m----> 3\u001b[0;31m         epsilon=epsilon, train=True) for _ in range(100)]\n\u001b[0m\u001b[1;32m      4\u001b[0m     print(\"epoch #{}\\tmean reward = {:.3f}\\tepsilon = {:.3f}\".format(\n\u001b[1;32m      5\u001b[0m         i, np.mean(session_rewards), epsilon))\n",
      "\u001b[0;32m<ipython-input-47-e9b71d6b012d>\u001b[0m in \u001b[0;36m<listcomp>\u001b[0;34m(.0)\u001b[0m\n\u001b[1;32m      1\u001b[0m \u001b[0;32mfor\u001b[0m \u001b[0mi\u001b[0m \u001b[0;32min\u001b[0m \u001b[0mrange\u001b[0m\u001b[0;34m(\u001b[0m\u001b[0;36m1000\u001b[0m\u001b[0;34m)\u001b[0m\u001b[0;34m:\u001b[0m\u001b[0;34m\u001b[0m\u001b[0;34m\u001b[0m\u001b[0m\n\u001b[1;32m      2\u001b[0m     session_rewards = [generate_session(\n\u001b[0;32m----> 3\u001b[0;31m         epsilon=epsilon, train=True) for _ in range(100)]\n\u001b[0m\u001b[1;32m      4\u001b[0m     print(\"epoch #{}\\tmean reward = {:.3f}\\tepsilon = {:.3f}\".format(\n\u001b[1;32m      5\u001b[0m         i, np.mean(session_rewards), epsilon))\n",
      "\u001b[0;32m<ipython-input-46-6ef1d47604dc>\u001b[0m in \u001b[0;36mgenerate_session\u001b[0;34m(t_max, epsilon, train)\u001b[0m\n\u001b[1;32m     10\u001b[0m         \u001b[0;32mif\u001b[0m \u001b[0mtrain\u001b[0m\u001b[0;34m:\u001b[0m\u001b[0;34m\u001b[0m\u001b[0;34m\u001b[0m\u001b[0m\n\u001b[1;32m     11\u001b[0m             \u001b[0mopt\u001b[0m\u001b[0;34m.\u001b[0m\u001b[0mzero_grad\u001b[0m\u001b[0;34m(\u001b[0m\u001b[0;34m)\u001b[0m\u001b[0;34m\u001b[0m\u001b[0;34m\u001b[0m\u001b[0m\n\u001b[0;32m---> 12\u001b[0;31m             \u001b[0mcompute_td_loss\u001b[0m\u001b[0;34m(\u001b[0m\u001b[0;34m[\u001b[0m\u001b[0ms\u001b[0m\u001b[0;34m]\u001b[0m\u001b[0;34m,\u001b[0m \u001b[0;34m[\u001b[0m\u001b[0ma\u001b[0m\u001b[0;34m]\u001b[0m\u001b[0;34m,\u001b[0m \u001b[0;34m[\u001b[0m\u001b[0mr\u001b[0m\u001b[0;34m]\u001b[0m\u001b[0;34m,\u001b[0m \u001b[0;34m[\u001b[0m\u001b[0mnext_s\u001b[0m\u001b[0;34m]\u001b[0m\u001b[0;34m,\u001b[0m \u001b[0;34m[\u001b[0m\u001b[0mdone\u001b[0m\u001b[0;34m]\u001b[0m\u001b[0;34m)\u001b[0m\u001b[0;34m.\u001b[0m\u001b[0mbackward\u001b[0m\u001b[0;34m(\u001b[0m\u001b[0;34m)\u001b[0m\u001b[0;34m\u001b[0m\u001b[0;34m\u001b[0m\u001b[0m\n\u001b[0m\u001b[1;32m     13\u001b[0m             \u001b[0mopt\u001b[0m\u001b[0;34m.\u001b[0m\u001b[0mstep\u001b[0m\u001b[0;34m(\u001b[0m\u001b[0;34m)\u001b[0m\u001b[0;34m\u001b[0m\u001b[0;34m\u001b[0m\u001b[0m\n\u001b[1;32m     14\u001b[0m \u001b[0;34m\u001b[0m\u001b[0m\n",
      "\u001b[0;32m<ipython-input-43-2bcf9bfc9a6c>\u001b[0m in \u001b[0;36mcompute_td_loss\u001b[0;34m(states, actions, rewards, next_states, is_done, gamma, check_shapes)\u001b[0m\n\u001b[1;32m     14\u001b[0m     \u001b[0;31m# select q-values for chosen actions\u001b[0m\u001b[0;34m\u001b[0m\u001b[0;34m\u001b[0m\u001b[0;34m\u001b[0m\u001b[0m\n\u001b[1;32m     15\u001b[0m     predicted_qvalues_for_actions = torch.sum(\n\u001b[0;32m---> 16\u001b[0;31m         predicted_qvalues * to_one_hot(actions, n_actions), dim=1)\n\u001b[0m\u001b[1;32m     17\u001b[0m \u001b[0;34m\u001b[0m\u001b[0m\n\u001b[1;32m     18\u001b[0m     \u001b[0;31m# compute q-values for all actions in next states\u001b[0m\u001b[0;34m\u001b[0m\u001b[0;34m\u001b[0m\u001b[0;34m\u001b[0m\u001b[0m\n",
      "\u001b[0;31mKeyboardInterrupt\u001b[0m: "
     ]
    }
   ],
   "source": [
    "for i in range(1000):\n",
    "    session_rewards = [generate_session(\n",
    "        epsilon=epsilon, train=True) for _ in range(100)]\n",
    "    print(\"epoch #{}\\tmean reward = {:.3f}\\tepsilon = {:.3f}\".format(\n",
    "        i, np.mean(session_rewards), epsilon))\n",
    "\n",
    "    epsilon *= 0.99\n",
    "    assert epsilon >= 1e-4, \"Make sure epsilon is always nonzero during training\"\n",
    "\n",
    "    if np.mean(session_rewards) > 300:\n",
    "        print(\"You Win!\")\n",
    "        break"
   ]
  },
  {
   "cell_type": "markdown",
   "metadata": {
    "colab_type": "text",
    "id": "vLSh6RxUhEDQ"
   },
   "source": [
    "### How to interpret results\n",
    "\n",
    "\n",
    "Welcome to the f.. world of deep f...n reinforcement learning. Don't expect agent's reward to smoothly go up. Hope for it to go increase eventually. If it deems you worthy.\n",
    "\n",
    "Seriously though,\n",
    "* __ mean reward__ is the average reward per game. For a correct implementation it may stay low for some 10 epochs, then start growing while oscilating insanely and converges by ~50-100 steps depending on the network architecture. \n",
    "* If it never reaches target score by the end of for loop, try increasing the number of hidden neurons or look at the epsilon.\n",
    "* __ epsilon__ - agent's willingness to explore. If you see that agent's already at < 0.01 epsilon before it's is at least 200, just reset it back to 0.1 - 0.5."
   ]
  },
  {
   "cell_type": "markdown",
   "metadata": {
    "colab_type": "text",
    "id": "ShR9wTvehEDT"
   },
   "source": [
    "### Record videos\n",
    "\n",
    "As usual, we now use `gym.wrappers.Monitor` to record a video of our agent playing the game. Unlike our previous attempts with state binarization, this time we expect our agent to act ~~(or fail)~~ more smoothly since there's no more binarization error at play.\n",
    "\n",
    "As you already did with tabular q-learning, we set epsilon=0 for final evaluation to prevent agent from exploring himself to death."
   ]
  },
  {
   "cell_type": "code",
   "execution_count": 0,
   "metadata": {
    "colab": {},
    "colab_type": "code",
    "id": "v2ZqyEE8hEDV"
   },
   "outputs": [],
   "source": [
    "# record sessions\n",
    "import gym.wrappers\n",
    "env = gym.wrappers.Monitor(gym.make(\"CartPole-v0\"),\n",
    "                           directory=\"videos\", force=True)\n",
    "sessions = [generate_session(epsilon=0, train=False) for _ in range(100)]\n",
    "env.close()"
   ]
  },
  {
   "cell_type": "code",
   "execution_count": 0,
   "metadata": {
    "colab": {},
    "colab_type": "code",
    "id": "wjznEV5JhEDa"
   },
   "outputs": [],
   "source": [
    "# show video\n",
    "from IPython.display import HTML\n",
    "import os\n",
    "\n",
    "video_names = list(\n",
    "    filter(lambda s: s.endswith(\".mp4\"), os.listdir(\"./videos/\")))\n",
    "\n",
    "HTML(\"\"\"\n",
    "<video width=\"640\" height=\"480\" controls>\n",
    "  <source src=\"{}\" type=\"video/mp4\">\n",
    "</video>\n",
    "\"\"\".format(\"./videos/\"+video_names[-1]))  # this may or may not be _last_ video. Try other indices"
   ]
  },
  {
   "cell_type": "code",
   "execution_count": 0,
   "metadata": {
    "colab": {},
    "colab_type": "code",
    "id": "NS3XimvohEDg"
   },
   "outputs": [],
   "source": []
  }
 ],
 "metadata": {
  "colab": {
   "name": "seminar_pytorch.ipynb",
   "provenance": []
  },
  "kernelspec": {
   "display_name": "Python 3",
   "language": "python",
   "name": "python3"
  },
  "language_info": {
   "codemirror_mode": {
    "name": "ipython",
    "version": 3
   },
   "file_extension": ".py",
   "mimetype": "text/x-python",
   "name": "python",
   "nbconvert_exporter": "python",
   "pygments_lexer": "ipython3",
   "version": "3.7.4"
  }
 },
 "nbformat": 4,
 "nbformat_minor": 1
}
